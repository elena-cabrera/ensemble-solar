{
 "cells": [
  {
   "cell_type": "markdown",
   "metadata": {},
   "source": [
    "# Stacking"
   ]
  },
  {
   "cell_type": "markdown",
   "metadata": {},
   "source": [
    "## Preparación"
   ]
  },
  {
   "cell_type": "markdown",
   "metadata": {},
   "source": [
    "### Importación de librerías"
   ]
  },
  {
   "cell_type": "code",
   "execution_count": 1,
   "metadata": {},
   "outputs": [],
   "source": [
    "import numpy as np # linear algebra\n",
    "import pandas as pd  # data management (dataframes)\n",
    "import matplotlib.pyplot as plt\n",
    "import seaborn as sns  # plotting\n",
    "\n",
    "from sklearn.pipeline import Pipeline, make_pipeline\n",
    "from sklearn.tree import DecisionTreeClassifier, DecisionTreeRegressor, plot_tree, export_text\n",
    "from sklearn.model_selection import train_test_split, GridSearchCV, cross_val_score\n",
    "\n",
    "#from sklearn import metrics\n",
    "#from sklearn.metrics import ConfusionMatrixDisplay, confusion_matrix\n",
    "from sklearn.metrics import mean_squared_error, mean_absolute_error\n",
    "\n",
    "from sklearn.inspection import permutation_importance\n",
    "\n",
    "# stacking\n",
    "from sklearn.ensemble import VotingRegressor, StackingRegressor\n",
    "\n",
    "from sklearn.linear_model  import LinearRegression, Ridge\n",
    "from sklearn.preprocessing import PolynomialFeatures, SplineTransformer\n",
    "\n",
    "#from sklearn.ensemble import BaggingClassifier, GradientBoostingClassifier\n",
    "from sklearn.ensemble import BaggingRegressor, RandomForestRegressor, AdaBoostRegressor, GradientBoostingRegressor\n",
    "\n",
    "# others\n",
    "from mltools import classification_tools as CT\n",
    "from mltools import model_tools as MT"
   ]
  },
  {
   "cell_type": "markdown",
   "metadata": {},
   "source": [
    "### Carga de datos"
   ]
  },
  {
   "cell_type": "code",
   "execution_count": 3,
   "metadata": {},
   "outputs": [],
   "source": [
    "df = pd.read_csv('../df.csv')"
   ]
  },
  {
   "cell_type": "markdown",
   "metadata": {},
   "source": [
    "### Dividir en train y test"
   ]
  },
  {
   "cell_type": "code",
   "execution_count": 4,
   "metadata": {},
   "outputs": [],
   "source": [
    "OUTPUT = 'UTIL_VALUE'\n",
    "X = df.drop(columns=[OUTPUT])\n",
    "y = df[OUTPUT]\n",
    "\n",
    "# Split\n",
    "X_train, X_test, y_train, y_test = train_test_split(X, y,\n",
    "                                                    test_size=0.2,  #percentage of test data\n",
    "                                                    random_state=0) #seed for replication"
   ]
  },
  {
   "cell_type": "markdown",
   "metadata": {},
   "source": [
    "## Modelos"
   ]
  },
  {
   "cell_type": "markdown",
   "metadata": {},
   "source": [
    "### Polinomial"
   ]
  },
  {
   "cell_type": "code",
   "execution_count": 6,
   "metadata": {},
   "outputs": [
    {
     "data": {
      "text/html": [
       "<style>#sk-container-id-1 {color: black;}#sk-container-id-1 pre{padding: 0;}#sk-container-id-1 div.sk-toggleable {background-color: white;}#sk-container-id-1 label.sk-toggleable__label {cursor: pointer;display: block;width: 100%;margin-bottom: 0;padding: 0.3em;box-sizing: border-box;text-align: center;}#sk-container-id-1 label.sk-toggleable__label-arrow:before {content: \"▸\";float: left;margin-right: 0.25em;color: #696969;}#sk-container-id-1 label.sk-toggleable__label-arrow:hover:before {color: black;}#sk-container-id-1 div.sk-estimator:hover label.sk-toggleable__label-arrow:before {color: black;}#sk-container-id-1 div.sk-toggleable__content {max-height: 0;max-width: 0;overflow: hidden;text-align: left;background-color: #f0f8ff;}#sk-container-id-1 div.sk-toggleable__content pre {margin: 0.2em;color: black;border-radius: 0.25em;background-color: #f0f8ff;}#sk-container-id-1 input.sk-toggleable__control:checked~div.sk-toggleable__content {max-height: 200px;max-width: 100%;overflow: auto;}#sk-container-id-1 input.sk-toggleable__control:checked~label.sk-toggleable__label-arrow:before {content: \"▾\";}#sk-container-id-1 div.sk-estimator input.sk-toggleable__control:checked~label.sk-toggleable__label {background-color: #d4ebff;}#sk-container-id-1 div.sk-label input.sk-toggleable__control:checked~label.sk-toggleable__label {background-color: #d4ebff;}#sk-container-id-1 input.sk-hidden--visually {border: 0;clip: rect(1px 1px 1px 1px);clip: rect(1px, 1px, 1px, 1px);height: 1px;margin: -1px;overflow: hidden;padding: 0;position: absolute;width: 1px;}#sk-container-id-1 div.sk-estimator {font-family: monospace;background-color: #f0f8ff;border: 1px dotted black;border-radius: 0.25em;box-sizing: border-box;margin-bottom: 0.5em;}#sk-container-id-1 div.sk-estimator:hover {background-color: #d4ebff;}#sk-container-id-1 div.sk-parallel-item::after {content: \"\";width: 100%;border-bottom: 1px solid gray;flex-grow: 1;}#sk-container-id-1 div.sk-label:hover label.sk-toggleable__label {background-color: #d4ebff;}#sk-container-id-1 div.sk-serial::before {content: \"\";position: absolute;border-left: 1px solid gray;box-sizing: border-box;top: 0;bottom: 0;left: 50%;z-index: 0;}#sk-container-id-1 div.sk-serial {display: flex;flex-direction: column;align-items: center;background-color: white;padding-right: 0.2em;padding-left: 0.2em;position: relative;}#sk-container-id-1 div.sk-item {position: relative;z-index: 1;}#sk-container-id-1 div.sk-parallel {display: flex;align-items: stretch;justify-content: center;background-color: white;position: relative;}#sk-container-id-1 div.sk-item::before, #sk-container-id-1 div.sk-parallel-item::before {content: \"\";position: absolute;border-left: 1px solid gray;box-sizing: border-box;top: 0;bottom: 0;left: 50%;z-index: -1;}#sk-container-id-1 div.sk-parallel-item {display: flex;flex-direction: column;z-index: 1;position: relative;background-color: white;}#sk-container-id-1 div.sk-parallel-item:first-child::after {align-self: flex-end;width: 50%;}#sk-container-id-1 div.sk-parallel-item:last-child::after {align-self: flex-start;width: 50%;}#sk-container-id-1 div.sk-parallel-item:only-child::after {width: 0;}#sk-container-id-1 div.sk-dashed-wrapped {border: 1px dashed gray;margin: 0 0.4em 0.5em 0.4em;box-sizing: border-box;padding-bottom: 0.4em;background-color: white;}#sk-container-id-1 div.sk-label label {font-family: monospace;font-weight: bold;display: inline-block;line-height: 1.2em;}#sk-container-id-1 div.sk-label-container {text-align: center;}#sk-container-id-1 div.sk-container {/* jupyter's `normalize.less` sets `[hidden] { display: none; }` but bootstrap.min.css set `[hidden] { display: none !important; }` so we also need the `!important` here to be able to override the default hidden behavior on the sphinx rendered scikit-learn.org. See: https://github.com/scikit-learn/scikit-learn/issues/21755 */display: inline-block !important;position: relative;}#sk-container-id-1 div.sk-text-repr-fallback {display: none;}</style><div id=\"sk-container-id-1\" class=\"sk-top-container\"><div class=\"sk-text-repr-fallback\"><pre>Ridge(alpha=0.1)</pre><b>In a Jupyter environment, please rerun this cell to show the HTML representation or trust the notebook. <br />On GitHub, the HTML representation is unable to render, please try loading this page with nbviewer.org.</b></div><div class=\"sk-container\" hidden><div class=\"sk-item\"><div class=\"sk-estimator sk-toggleable\"><input class=\"sk-toggleable__control sk-hidden--visually\" id=\"sk-estimator-id-1\" type=\"checkbox\" checked><label for=\"sk-estimator-id-1\" class=\"sk-toggleable__label sk-toggleable__label-arrow\">Ridge</label><div class=\"sk-toggleable__content\"><pre>Ridge(alpha=0.1)</pre></div></div></div></div></div>"
      ],
      "text/plain": [
       "Ridge(alpha=0.1)"
      ]
     },
     "execution_count": 6,
     "metadata": {},
     "output_type": "execute_result"
    }
   ],
   "source": [
    "# First, create the basis functions using SplineTransformer\n",
    "degree = 5 # order of the basis polynomials\n",
    "\n",
    "plf = PolynomialFeatures(degree=degree).fit(X_train)\n",
    "X_train_plf = plf.transform(X_train)\n",
    "\n",
    "# fit the B-spline using ridge regression\n",
    "ridge_plf = Ridge(alpha=0.1)\n",
    "ridge_plf.fit(X_train_plf, y_train)\n",
    "\n",
    "# show coefs\n",
    "# plt.figure(figsize=(15, 3))\n",
    "# plt.bar(range(degree+1), ridge_plf.coef_)\n",
    "# plt.title(f'Intercept: {ridge_plf.intercept_}')\n",
    "# plt.xlabel('Base id')\n",
    "# plt.ylabel('Coef.')\n",
    "# plt.grid()\n",
    "# plt.show()"
   ]
  },
  {
   "cell_type": "code",
   "execution_count": 7,
   "metadata": {},
   "outputs": [
    {
     "name": "stdout",
     "output_type": "stream",
     "text": [
      "MSE(TR, poly) = 0.004880797137341219\n",
      "MSE(TS, poly) = 0.005359776599030808\n",
      "MAE(TR, poly) = 0.041669632834955624\n",
      "MAE(TS, poly) = 0.043841128675839974\n"
     ]
    }
   ],
   "source": [
    "# estimations using the spline\n",
    "y_train_poly = ridge_plf.predict(X_train_plf)\n",
    "\n",
    "X_test_plf = plf.transform(X_test)\n",
    "y_test_poly = ridge_plf.predict(X_test_plf)\n",
    "\n",
    "# errors\n",
    "mse_tr_poly = mean_squared_error(y_train_poly, y_train)\n",
    "mse_ts_poly = mean_squared_error(y_test_poly, y_test)\n",
    "\n",
    "mae_tr_poly = mean_absolute_error(y_train_poly, y_train)\n",
    "mae_ts_poly = mean_absolute_error(y_test_poly, y_test)\n",
    "\n",
    "print(f'MSE(TR, poly) = {mse_tr_poly}')\n",
    "print(f'MSE(TS, poly) = {mse_ts_poly}')\n",
    "print(f'MAE(TR, poly) = {mae_tr_poly}')\n",
    "print(f'MAE(TS, poly) = {mae_ts_poly}')"
   ]
  },
  {
   "cell_type": "markdown",
   "metadata": {},
   "source": [
    "### B-Spline"
   ]
  },
  {
   "cell_type": "code",
   "execution_count": 9,
   "metadata": {},
   "outputs": [
    {
     "data": {
      "text/html": [
       "<style>#sk-container-id-2 {color: black;}#sk-container-id-2 pre{padding: 0;}#sk-container-id-2 div.sk-toggleable {background-color: white;}#sk-container-id-2 label.sk-toggleable__label {cursor: pointer;display: block;width: 100%;margin-bottom: 0;padding: 0.3em;box-sizing: border-box;text-align: center;}#sk-container-id-2 label.sk-toggleable__label-arrow:before {content: \"▸\";float: left;margin-right: 0.25em;color: #696969;}#sk-container-id-2 label.sk-toggleable__label-arrow:hover:before {color: black;}#sk-container-id-2 div.sk-estimator:hover label.sk-toggleable__label-arrow:before {color: black;}#sk-container-id-2 div.sk-toggleable__content {max-height: 0;max-width: 0;overflow: hidden;text-align: left;background-color: #f0f8ff;}#sk-container-id-2 div.sk-toggleable__content pre {margin: 0.2em;color: black;border-radius: 0.25em;background-color: #f0f8ff;}#sk-container-id-2 input.sk-toggleable__control:checked~div.sk-toggleable__content {max-height: 200px;max-width: 100%;overflow: auto;}#sk-container-id-2 input.sk-toggleable__control:checked~label.sk-toggleable__label-arrow:before {content: \"▾\";}#sk-container-id-2 div.sk-estimator input.sk-toggleable__control:checked~label.sk-toggleable__label {background-color: #d4ebff;}#sk-container-id-2 div.sk-label input.sk-toggleable__control:checked~label.sk-toggleable__label {background-color: #d4ebff;}#sk-container-id-2 input.sk-hidden--visually {border: 0;clip: rect(1px 1px 1px 1px);clip: rect(1px, 1px, 1px, 1px);height: 1px;margin: -1px;overflow: hidden;padding: 0;position: absolute;width: 1px;}#sk-container-id-2 div.sk-estimator {font-family: monospace;background-color: #f0f8ff;border: 1px dotted black;border-radius: 0.25em;box-sizing: border-box;margin-bottom: 0.5em;}#sk-container-id-2 div.sk-estimator:hover {background-color: #d4ebff;}#sk-container-id-2 div.sk-parallel-item::after {content: \"\";width: 100%;border-bottom: 1px solid gray;flex-grow: 1;}#sk-container-id-2 div.sk-label:hover label.sk-toggleable__label {background-color: #d4ebff;}#sk-container-id-2 div.sk-serial::before {content: \"\";position: absolute;border-left: 1px solid gray;box-sizing: border-box;top: 0;bottom: 0;left: 50%;z-index: 0;}#sk-container-id-2 div.sk-serial {display: flex;flex-direction: column;align-items: center;background-color: white;padding-right: 0.2em;padding-left: 0.2em;position: relative;}#sk-container-id-2 div.sk-item {position: relative;z-index: 1;}#sk-container-id-2 div.sk-parallel {display: flex;align-items: stretch;justify-content: center;background-color: white;position: relative;}#sk-container-id-2 div.sk-item::before, #sk-container-id-2 div.sk-parallel-item::before {content: \"\";position: absolute;border-left: 1px solid gray;box-sizing: border-box;top: 0;bottom: 0;left: 50%;z-index: -1;}#sk-container-id-2 div.sk-parallel-item {display: flex;flex-direction: column;z-index: 1;position: relative;background-color: white;}#sk-container-id-2 div.sk-parallel-item:first-child::after {align-self: flex-end;width: 50%;}#sk-container-id-2 div.sk-parallel-item:last-child::after {align-self: flex-start;width: 50%;}#sk-container-id-2 div.sk-parallel-item:only-child::after {width: 0;}#sk-container-id-2 div.sk-dashed-wrapped {border: 1px dashed gray;margin: 0 0.4em 0.5em 0.4em;box-sizing: border-box;padding-bottom: 0.4em;background-color: white;}#sk-container-id-2 div.sk-label label {font-family: monospace;font-weight: bold;display: inline-block;line-height: 1.2em;}#sk-container-id-2 div.sk-label-container {text-align: center;}#sk-container-id-2 div.sk-container {/* jupyter's `normalize.less` sets `[hidden] { display: none; }` but bootstrap.min.css set `[hidden] { display: none !important; }` so we also need the `!important` here to be able to override the default hidden behavior on the sphinx rendered scikit-learn.org. See: https://github.com/scikit-learn/scikit-learn/issues/21755 */display: inline-block !important;position: relative;}#sk-container-id-2 div.sk-text-repr-fallback {display: none;}</style><div id=\"sk-container-id-2\" class=\"sk-top-container\"><div class=\"sk-text-repr-fallback\"><pre>Ridge(alpha=0.1)</pre><b>In a Jupyter environment, please rerun this cell to show the HTML representation or trust the notebook. <br />On GitHub, the HTML representation is unable to render, please try loading this page with nbviewer.org.</b></div><div class=\"sk-container\" hidden><div class=\"sk-item\"><div class=\"sk-estimator sk-toggleable\"><input class=\"sk-toggleable__control sk-hidden--visually\" id=\"sk-estimator-id-2\" type=\"checkbox\" checked><label for=\"sk-estimator-id-2\" class=\"sk-toggleable__label sk-toggleable__label-arrow\">Ridge</label><div class=\"sk-toggleable__content\"><pre>Ridge(alpha=0.1)</pre></div></div></div></div></div>"
      ],
      "text/plain": [
       "Ridge(alpha=0.1)"
      ]
     },
     "execution_count": 9,
     "metadata": {},
     "output_type": "execute_result"
    }
   ],
   "source": [
    "# First, create the basis functions using SplineTransformer\n",
    "n_knots = 25 # number of \"breaking points\"\n",
    "degree = 3 # order of the basis polynomials\n",
    "\n",
    "splt = SplineTransformer(n_knots=n_knots, degree=degree).fit(X_train)\n",
    "X_train_splt = splt.transform(X_train)\n",
    "\n",
    "# fit the B-spline using ridge regression\n",
    "ridge_splt = Ridge(alpha=0.1)\n",
    "ridge_splt.fit(X_train_splt, y_train)\n",
    "\n",
    "# show coefs\n",
    "# plt.figure(figsize=(15, 3))\n",
    "# plt.bar(range(n_knots+2), ridge_splt.coef_)\n",
    "# plt.title(f'Intercept: {ridge_splt.intercept_}')\n",
    "# plt.xlabel('Base id')\n",
    "# plt.ylabel('Coef.')\n",
    "# plt.grid()\n",
    "# plt.show()"
   ]
  },
  {
   "cell_type": "code",
   "execution_count": 10,
   "metadata": {},
   "outputs": [
    {
     "name": "stdout",
     "output_type": "stream",
     "text": [
      "MSE(TR, spline) = 0.005087265579134734\n",
      "MSE(TS, spline) = 0.005306321790805033\n",
      "MAE(TR, spline) = 0.04771968010542406\n",
      "MAE(TS, spline) = 0.049284292080676924\n"
     ]
    }
   ],
   "source": [
    "# estimations using the spline\n",
    "y_train_spline = ridge_splt.predict(X_train_splt)\n",
    "\n",
    "X_test_splt = splt.transform(X_test)\n",
    "y_test_spline = ridge_splt.predict(X_test_splt)\n",
    "\n",
    "# errors\n",
    "mse_tr_spline = mean_squared_error(y_train_spline, y_train)\n",
    "mse_ts_spline = mean_squared_error(y_test_spline, y_test)\n",
    "\n",
    "mae_tr_spline = mean_absolute_error(y_train_spline, y_train)\n",
    "mae_ts_spline = mean_absolute_error(y_test_spline, y_test)\n",
    "\n",
    "print(f'MSE(TR, spline) = {mse_tr_spline}')\n",
    "print(f'MSE(TS, spline) = {mse_ts_spline}')\n",
    "print(f'MAE(TR, spline) = {mae_tr_spline}')\n",
    "print(f'MAE(TS, spline) = {mae_ts_spline}')"
   ]
  },
  {
   "cell_type": "markdown",
   "metadata": {},
   "source": [
    "### Stacking"
   ]
  },
  {
   "cell_type": "code",
   "execution_count": 11,
   "metadata": {},
   "outputs": [
    {
     "data": {
      "text/plain": [
       "[('poly',\n",
       "  Pipeline(steps=[('polynomialfeatures', PolynomialFeatures(degree=15)),\n",
       "                  ('ridge', Ridge(alpha=0.001))])),\n",
       " ('spline',\n",
       "  Pipeline(steps=[('splinetransformer', SplineTransformer(n_knots=25)),\n",
       "                  ('ridge', Ridge(alpha=0.001))])),\n",
       " ('regtree',\n",
       "  Pipeline(steps=[('gridsearchcv',\n",
       "                   GridSearchCV(cv=10,\n",
       "                                estimator=Pipeline(steps=[('DT',\n",
       "                                                           DecisionTreeRegressor(random_state=150))]),\n",
       "                                n_jobs=-1,\n",
       "                                param_grid={'DT__min_impurity_decrease': array([0.]),\n",
       "                                            'DT__min_samples_leaf': array([1, 2, 3, 4, 5, 6, 7, 8, 9]),\n",
       "                                            'DT__min_samples_split': array([1, 2, 3, 4, 5, 6, 7, 8, 9])}))]))]"
      ]
     },
     "execution_count": 11,
     "metadata": {},
     "output_type": "execute_result"
    }
   ],
   "source": [
    "degree_poly = 15\n",
    "\n",
    "n_knots_spline = 25 # number of \"breaking points\"\n",
    "degree_basis_spline = 3 # order of the basis polynomials\n",
    "\n",
    "# grid in min_impurity x min_samples_leaf x min_samples_split\n",
    "param_tree = {'DT__min_impurity_decrease': np.arange(0, 0.001 * np.var(y_train),0.001), # Minimum impurity to decrease in each split\n",
    "         'DT__min_samples_leaf': np.arange(1,10,1), # Minimum number of obs in a terminal node\n",
    "         'DT__min_samples_split':  np.arange(1,10,1)} # Minimum number of obs in node to keep cutting\n",
    "\n",
    "pipe_tree = Pipeline(steps=[('DT', DecisionTreeRegressor(criterion='squared_error',  # impurity measure: variance reduction\n",
    "                                                         random_state=150))]) # For replication\n",
    "\n",
    "nFolds_tree = 10\n",
    "\n",
    "## set of estimators to be stacked\n",
    "estimators = [\n",
    "    ('poly', make_pipeline(\n",
    "        PolynomialFeatures(degree_poly), \n",
    "        Ridge(alpha=1e-3))\n",
    "    ),\n",
    "    ('spline', make_pipeline(\n",
    "        SplineTransformer(n_knots=n_knots, degree=degree),\n",
    "        Ridge(alpha=1e-3))\n",
    "    ),\n",
    "    ('regtree', make_pipeline(\n",
    "                GridSearchCV(estimator= pipe_tree,\n",
    "                            param_grid=param_tree, # Defined grid to search in\n",
    "                            n_jobs=-1, # Number of cores to use (parallelize)\n",
    "                            cv=nFolds_tree)) # Number of Folds\n",
    "    )\n",
    "]\n",
    "\n",
    "estimators"
   ]
  },
  {
   "cell_type": "code",
   "execution_count": 12,
   "metadata": {},
   "outputs": [],
   "source": [
    "weights = [0.1, 0.2, 0.7]\n",
    "stacked_reg = VotingRegressor(estimators = estimators, weights = weights)\n",
    "stacked_reg = stacked_reg.fit(X_train, y_train)\n",
    "stacked_reg.get_params()"
   ]
  },
  {
   "cell_type": "code",
   "execution_count": null,
   "metadata": {},
   "outputs": [],
   "source": [
    "# estimations using the stacked models\n",
    "y_train_stack = stacked_reg.predict(X_train)\n",
    "y_test_stack = stacked_reg.predict(X_test)\n",
    "\n",
    "# errors\n",
    "mse_tr_stack = mean_squared_error(y_train_stack, y_train)\n",
    "mse_ts_stack = mean_squared_error(y_test_stack, y_test)\n",
    "\n",
    "mae_tr_stack = mean_absolute_error(y_train_stack, y_train)\n",
    "mae_ts_stack = mean_absolute_error(y_test_stack, y_test)\n",
    "\n",
    "print(f'MSE(TR, stack) = {mse_tr_stack}')\n",
    "print(f'MSE(TS, stack) = {mse_ts_stack}')\n",
    "print(f'MAE(TR, stack) = {mae_tr_stack}')\n",
    "print(f'MAE(TS, stack) = {mae_ts_stack}')"
   ]
  }
 ],
 "metadata": {
  "kernelspec": {
   "display_name": "ML",
   "language": "python",
   "name": "python3"
  },
  "language_info": {
   "codemirror_mode": {
    "name": "ipython",
    "version": 3
   },
   "file_extension": ".py",
   "mimetype": "text/x-python",
   "name": "python",
   "nbconvert_exporter": "python",
   "pygments_lexer": "ipython3",
   "version": "3.11.5"
  }
 },
 "nbformat": 4,
 "nbformat_minor": 2
}
