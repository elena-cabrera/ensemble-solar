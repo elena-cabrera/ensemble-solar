{
 "cells": [
  {
   "cell_type": "markdown",
   "metadata": {},
   "source": [
    "# Linear regression"
   ]
  },
  {
   "cell_type": "markdown",
   "metadata": {},
   "source": [
    "## Preparación"
   ]
  },
  {
   "cell_type": "markdown",
   "metadata": {},
   "source": [
    "### Importación de librerías"
   ]
  },
  {
   "cell_type": "code",
   "execution_count": 1,
   "metadata": {},
   "outputs": [],
   "source": [
    "import numpy as np # linear algebra\n",
    "import pandas as pd  # data management (dataframes)\n",
    "import matplotlib.pyplot as plt\n",
    "import seaborn as sns  # plotting\n",
    "\n",
    "from sklearn.pipeline import Pipeline, make_pipeline\n",
    "from sklearn.tree import DecisionTreeClassifier, DecisionTreeRegressor, plot_tree, export_text\n",
    "from sklearn.model_selection import train_test_split, GridSearchCV, cross_val_score\n",
    "\n",
    "#from sklearn import metrics\n",
    "#from sklearn.metrics import ConfusionMatrixDisplay, confusion_matrix\n",
    "from sklearn.metrics import mean_squared_error, mean_absolute_error\n",
    "\n",
    "from sklearn.inspection import permutation_importance\n",
    "\n",
    "# stacking\n",
    "from sklearn.ensemble import VotingRegressor, StackingRegressor\n",
    "\n",
    "from sklearn.linear_model  import LinearRegression, Ridge\n",
    "from sklearn.preprocessing import PolynomialFeatures, SplineTransformer\n",
    "\n",
    "#from sklearn.ensemble import BaggingClassifier, GradientBoostingClassifier\n",
    "from sklearn.ensemble import BaggingRegressor, RandomForestRegressor, AdaBoostRegressor, GradientBoostingRegressor\n",
    "\n",
    "# others\n",
    "from mltools import classification_tools as CT\n",
    "from mltools import model_tools as MT"
   ]
  },
  {
   "cell_type": "code",
   "execution_count": null,
   "metadata": {},
   "outputs": [],
   "source": [
    "### Load libraries ###\n",
    "\n",
    "# interactive plotting\n",
    "#%matplotlib inline\n",
    "#%config InlineBackend.figure_format = 'svg' # ‘png’, ‘retina’, ‘jpeg’, ‘svg’, ‘pdf’\n",
    "\n",
    "# plotting libraries\n",
    "import seaborn as sns\n",
    "import matplotlib.pyplot as plt\n",
    "sns.set()\n",
    "\n",
    "\n",
    "# Data management libraries\n",
    "import numpy as np # linear algebra\n",
    "import pandas as pd # data processing, CSV file I/O (e.g. pd.read_csv)\n",
    "\n",
    "# Machine learning libraries\n",
    "import math\n",
    "from sklearn.model_selection import train_test_split, GridSearchCV, cross_val_score\n",
    "from sklearn.linear_model import LinearRegression\n",
    "from sklearn.pipeline import Pipeline\n",
    "from sklearn.preprocessing import StandardScaler, OneHotEncoder, PolynomialFeatures\n",
    "from sklearn.metrics import mean_squared_error, r2_score, mean_absolute_error\n",
    "from sklearn.compose import ColumnTransformer\n",
    "\n",
    "from sklearn import set_config\n",
    "set_config(display='diagram')\n",
    "\n",
    "# others\n",
    "from statsmodels.stats.outliers_influence import variance_inflation_factor\n",
    "from mltools import regression_tools as RT\n",
    "from mltools.regression_tools import LinearRegressor\n",
    "from mltools import model_tools as MT"
   ]
  },
  {
   "cell_type": "markdown",
   "metadata": {},
   "source": [
    "### Carga de datos"
   ]
  },
  {
   "cell_type": "code",
   "execution_count": 2,
   "metadata": {},
   "outputs": [],
   "source": [
    "df = pd.read_csv('../df.csv')"
   ]
  },
  {
   "cell_type": "markdown",
   "metadata": {},
   "source": [
    "### Dividir en train y test"
   ]
  },
  {
   "cell_type": "code",
   "execution_count": 3,
   "metadata": {},
   "outputs": [],
   "source": [
    "OUTPUT = 'UTIL_VALUE'\n",
    "X = df.drop(columns=[OUTPUT])\n",
    "y = df[OUTPUT]\n",
    "\n",
    "# Split\n",
    "X_train, X_test, y_train, y_test = train_test_split(X, y,\n",
    "                                                    test_size=0.2,  #percentage of test data\n",
    "                                                    random_state=0) #seed for replication"
   ]
  },
  {
   "cell_type": "markdown",
   "metadata": {},
   "source": [
    "## Modelos"
   ]
  },
  {
   "cell_type": "markdown",
   "metadata": {},
   "source": [
    "### Linear Regression"
   ]
  },
  {
   "cell_type": "code",
   "execution_count": 4,
   "metadata": {},
   "outputs": [
    {
     "data": {
      "text/html": [
       "<style>#sk-container-id-1 {color: black;}#sk-container-id-1 pre{padding: 0;}#sk-container-id-1 div.sk-toggleable {background-color: white;}#sk-container-id-1 label.sk-toggleable__label {cursor: pointer;display: block;width: 100%;margin-bottom: 0;padding: 0.3em;box-sizing: border-box;text-align: center;}#sk-container-id-1 label.sk-toggleable__label-arrow:before {content: \"▸\";float: left;margin-right: 0.25em;color: #696969;}#sk-container-id-1 label.sk-toggleable__label-arrow:hover:before {color: black;}#sk-container-id-1 div.sk-estimator:hover label.sk-toggleable__label-arrow:before {color: black;}#sk-container-id-1 div.sk-toggleable__content {max-height: 0;max-width: 0;overflow: hidden;text-align: left;background-color: #f0f8ff;}#sk-container-id-1 div.sk-toggleable__content pre {margin: 0.2em;color: black;border-radius: 0.25em;background-color: #f0f8ff;}#sk-container-id-1 input.sk-toggleable__control:checked~div.sk-toggleable__content {max-height: 200px;max-width: 100%;overflow: auto;}#sk-container-id-1 input.sk-toggleable__control:checked~label.sk-toggleable__label-arrow:before {content: \"▾\";}#sk-container-id-1 div.sk-estimator input.sk-toggleable__control:checked~label.sk-toggleable__label {background-color: #d4ebff;}#sk-container-id-1 div.sk-label input.sk-toggleable__control:checked~label.sk-toggleable__label {background-color: #d4ebff;}#sk-container-id-1 input.sk-hidden--visually {border: 0;clip: rect(1px 1px 1px 1px);clip: rect(1px, 1px, 1px, 1px);height: 1px;margin: -1px;overflow: hidden;padding: 0;position: absolute;width: 1px;}#sk-container-id-1 div.sk-estimator {font-family: monospace;background-color: #f0f8ff;border: 1px dotted black;border-radius: 0.25em;box-sizing: border-box;margin-bottom: 0.5em;}#sk-container-id-1 div.sk-estimator:hover {background-color: #d4ebff;}#sk-container-id-1 div.sk-parallel-item::after {content: \"\";width: 100%;border-bottom: 1px solid gray;flex-grow: 1;}#sk-container-id-1 div.sk-label:hover label.sk-toggleable__label {background-color: #d4ebff;}#sk-container-id-1 div.sk-serial::before {content: \"\";position: absolute;border-left: 1px solid gray;box-sizing: border-box;top: 0;bottom: 0;left: 50%;z-index: 0;}#sk-container-id-1 div.sk-serial {display: flex;flex-direction: column;align-items: center;background-color: white;padding-right: 0.2em;padding-left: 0.2em;position: relative;}#sk-container-id-1 div.sk-item {position: relative;z-index: 1;}#sk-container-id-1 div.sk-parallel {display: flex;align-items: stretch;justify-content: center;background-color: white;position: relative;}#sk-container-id-1 div.sk-item::before, #sk-container-id-1 div.sk-parallel-item::before {content: \"\";position: absolute;border-left: 1px solid gray;box-sizing: border-box;top: 0;bottom: 0;left: 50%;z-index: -1;}#sk-container-id-1 div.sk-parallel-item {display: flex;flex-direction: column;z-index: 1;position: relative;background-color: white;}#sk-container-id-1 div.sk-parallel-item:first-child::after {align-self: flex-end;width: 50%;}#sk-container-id-1 div.sk-parallel-item:last-child::after {align-self: flex-start;width: 50%;}#sk-container-id-1 div.sk-parallel-item:only-child::after {width: 0;}#sk-container-id-1 div.sk-dashed-wrapped {border: 1px dashed gray;margin: 0 0.4em 0.5em 0.4em;box-sizing: border-box;padding-bottom: 0.4em;background-color: white;}#sk-container-id-1 div.sk-label label {font-family: monospace;font-weight: bold;display: inline-block;line-height: 1.2em;}#sk-container-id-1 div.sk-label-container {text-align: center;}#sk-container-id-1 div.sk-container {/* jupyter's `normalize.less` sets `[hidden] { display: none; }` but bootstrap.min.css set `[hidden] { display: none !important; }` so we also need the `!important` here to be able to override the default hidden behavior on the sphinx rendered scikit-learn.org. See: https://github.com/scikit-learn/scikit-learn/issues/21755 */display: inline-block !important;position: relative;}#sk-container-id-1 div.sk-text-repr-fallback {display: none;}</style><div id=\"sk-container-id-1\" class=\"sk-top-container\"><div class=\"sk-text-repr-fallback\"><pre>Ridge(alpha=0.1)</pre><b>In a Jupyter environment, please rerun this cell to show the HTML representation or trust the notebook. <br />On GitHub, the HTML representation is unable to render, please try loading this page with nbviewer.org.</b></div><div class=\"sk-container\" hidden><div class=\"sk-item\"><div class=\"sk-estimator sk-toggleable\"><input class=\"sk-toggleable__control sk-hidden--visually\" id=\"sk-estimator-id-1\" type=\"checkbox\" checked><label for=\"sk-estimator-id-1\" class=\"sk-toggleable__label sk-toggleable__label-arrow\">Ridge</label><div class=\"sk-toggleable__content\"><pre>Ridge(alpha=0.1)</pre></div></div></div></div></div>"
      ],
      "text/plain": [
       "Ridge(alpha=0.1)"
      ]
     },
     "execution_count": 4,
     "metadata": {},
     "output_type": "execute_result"
    }
   ],
   "source": [
    "INPUTS_LR_NUM = [\"age\",\"bmi\"]\n",
    "INPUTS_LR_CAT = [\"sex\",\"children\",\"smoker\",\"region\"]\n",
    "INPUTS_LR = INPUTS_LR_NUM + INPUTS_LR_CAT\n",
    "\n",
    "# Prepare the numeric variables by imputing by scaling\n",
    "numeric_transformer = Pipeline(steps=[('scaler', StandardScaler())])\n",
    "\n",
    "# Prepare the categorical variables by encoding the categories\n",
    "categorical_transformer = Pipeline(steps=[('onehot', OneHotEncoder(handle_unknown='ignore',drop='first'))])\n",
    "\n",
    "# Create a preprocessor to perform the steps defined above\n",
    "preprocessor = ColumnTransformer(transformers=[\n",
    "        ('num', numeric_transformer, INPUTS_LR_NUM),\n",
    "        ('cat', categorical_transformer, INPUTS_LR_CAT)\n",
    "        ])\n",
    "\n",
    "pipe = Pipeline(steps=[('Prep',preprocessor), # Preprocess the variables when training the model \n",
    "                        ('LinReg',LinearRegressor())]) \n",
    "\n",
    "\n",
    "# We use Grid Search Cross Validation to find the best parameter for the model in the grid defined \n",
    "nFolds = 10\n",
    "param = {}\n",
    "LR_fit = GridSearchCV(estimator=pipe, # Structure of the model to use\n",
    "                        param_grid=param, # Defined grid to search in\n",
    "                        n_jobs=-1, # Number of cores to use (parallelize)\n",
    "                        cv=nFolds) # Number of Folds \n",
    "LR_fit.fit(X_train[INPUTS_LR], y_train) # Search in grid"
   ]
  },
  {
   "cell_type": "code",
   "execution_count": null,
   "metadata": {},
   "outputs": [],
   "source": [
    "LR_fit.best_estimator_['LinReg'].summary(LR_fit.best_estimator_['Prep'].get_feature_names_out())"
   ]
  },
  {
   "cell_type": "code",
   "execution_count": null,
   "metadata": {},
   "outputs": [],
   "source": [
    "X_processed = LR_fit.best_estimator_['Prep'].transform(X_train)\n",
    "coefnames = LR_fit.best_estimator_['Prep'].get_feature_names_out(INPUTS_LR)\n",
    "#Identify correlated variables\n",
    "vif = pd.DataFrame()\n",
    "vif[\"VIF Factor\"] = [variance_inflation_factor(X_processed, i) for i in range(X_processed.shape[1])]\n",
    "vif[\"features\"] = coefnames\n",
    "vif.round(1)"
   ]
  },
  {
   "cell_type": "code",
   "execution_count": null,
   "metadata": {},
   "outputs": [],
   "source": [
    "dfTR_eval['LR_pred'] = LR_fit.predict(X_train)\n",
    "dfTS_eval['LR_pred'] = LR_fit.predict(X_test)"
   ]
  },
  {
   "cell_type": "code",
   "execution_count": null,
   "metadata": {},
   "outputs": [],
   "source": [
    "#Training and test MAE - Mean Absolute error\n",
    "print('Training MAE:',mean_absolute_error(dfTR_eval['charges'], dfTR_eval['LR_pred']))\n",
    "print('Test MAE:',mean_absolute_error(dfTS_eval['charges'], dfTS_eval['LR_pred']))"
   ]
  },
  {
   "cell_type": "code",
   "execution_count": null,
   "metadata": {},
   "outputs": [],
   "source": [
    "#Training and test RMSE - Root Mean Square Error\n",
    "print('Training RMSE:',math.sqrt(mean_squared_error(dfTR_eval['charges'], dfTR_eval['LR_pred'])))\n",
    "print('Test RMSE:',math.sqrt(mean_squared_error(dfTS_eval['charges'], dfTS_eval['LR_pred'])))"
   ]
  },
  {
   "cell_type": "code",
   "execution_count": 5,
   "metadata": {},
   "outputs": [
    {
     "name": "stdout",
     "output_type": "stream",
     "text": [
      "MSE(TR, poly) = 0.004880797137341219\n",
      "MSE(TS, poly) = 0.005359776599030808\n",
      "MAE(TR, poly) = 0.041669632834955624\n",
      "MAE(TS, poly) = 0.043841128675839974\n"
     ]
    }
   ],
   "source": [
    "#Training and test r^2 \n",
    "print('Training R2:',r2_score(dfTR_eval['charges'], dfTR_eval['LR_pred']))\n",
    "print('Test R2:',r2_score(dfTS_eval['charges'], dfTS_eval['LR_pred']))"
   ]
  },
  {
   "cell_type": "code",
   "execution_count": 6,
   "metadata": {},
   "outputs": [
    {
     "data": {
      "text/html": [
       "<style>#sk-container-id-2 {color: black;}#sk-container-id-2 pre{padding: 0;}#sk-container-id-2 div.sk-toggleable {background-color: white;}#sk-container-id-2 label.sk-toggleable__label {cursor: pointer;display: block;width: 100%;margin-bottom: 0;padding: 0.3em;box-sizing: border-box;text-align: center;}#sk-container-id-2 label.sk-toggleable__label-arrow:before {content: \"▸\";float: left;margin-right: 0.25em;color: #696969;}#sk-container-id-2 label.sk-toggleable__label-arrow:hover:before {color: black;}#sk-container-id-2 div.sk-estimator:hover label.sk-toggleable__label-arrow:before {color: black;}#sk-container-id-2 div.sk-toggleable__content {max-height: 0;max-width: 0;overflow: hidden;text-align: left;background-color: #f0f8ff;}#sk-container-id-2 div.sk-toggleable__content pre {margin: 0.2em;color: black;border-radius: 0.25em;background-color: #f0f8ff;}#sk-container-id-2 input.sk-toggleable__control:checked~div.sk-toggleable__content {max-height: 200px;max-width: 100%;overflow: auto;}#sk-container-id-2 input.sk-toggleable__control:checked~label.sk-toggleable__label-arrow:before {content: \"▾\";}#sk-container-id-2 div.sk-estimator input.sk-toggleable__control:checked~label.sk-toggleable__label {background-color: #d4ebff;}#sk-container-id-2 div.sk-label input.sk-toggleable__control:checked~label.sk-toggleable__label {background-color: #d4ebff;}#sk-container-id-2 input.sk-hidden--visually {border: 0;clip: rect(1px 1px 1px 1px);clip: rect(1px, 1px, 1px, 1px);height: 1px;margin: -1px;overflow: hidden;padding: 0;position: absolute;width: 1px;}#sk-container-id-2 div.sk-estimator {font-family: monospace;background-color: #f0f8ff;border: 1px dotted black;border-radius: 0.25em;box-sizing: border-box;margin-bottom: 0.5em;}#sk-container-id-2 div.sk-estimator:hover {background-color: #d4ebff;}#sk-container-id-2 div.sk-parallel-item::after {content: \"\";width: 100%;border-bottom: 1px solid gray;flex-grow: 1;}#sk-container-id-2 div.sk-label:hover label.sk-toggleable__label {background-color: #d4ebff;}#sk-container-id-2 div.sk-serial::before {content: \"\";position: absolute;border-left: 1px solid gray;box-sizing: border-box;top: 0;bottom: 0;left: 50%;z-index: 0;}#sk-container-id-2 div.sk-serial {display: flex;flex-direction: column;align-items: center;background-color: white;padding-right: 0.2em;padding-left: 0.2em;position: relative;}#sk-container-id-2 div.sk-item {position: relative;z-index: 1;}#sk-container-id-2 div.sk-parallel {display: flex;align-items: stretch;justify-content: center;background-color: white;position: relative;}#sk-container-id-2 div.sk-item::before, #sk-container-id-2 div.sk-parallel-item::before {content: \"\";position: absolute;border-left: 1px solid gray;box-sizing: border-box;top: 0;bottom: 0;left: 50%;z-index: -1;}#sk-container-id-2 div.sk-parallel-item {display: flex;flex-direction: column;z-index: 1;position: relative;background-color: white;}#sk-container-id-2 div.sk-parallel-item:first-child::after {align-self: flex-end;width: 50%;}#sk-container-id-2 div.sk-parallel-item:last-child::after {align-self: flex-start;width: 50%;}#sk-container-id-2 div.sk-parallel-item:only-child::after {width: 0;}#sk-container-id-2 div.sk-dashed-wrapped {border: 1px dashed gray;margin: 0 0.4em 0.5em 0.4em;box-sizing: border-box;padding-bottom: 0.4em;background-color: white;}#sk-container-id-2 div.sk-label label {font-family: monospace;font-weight: bold;display: inline-block;line-height: 1.2em;}#sk-container-id-2 div.sk-label-container {text-align: center;}#sk-container-id-2 div.sk-container {/* jupyter's `normalize.less` sets `[hidden] { display: none; }` but bootstrap.min.css set `[hidden] { display: none !important; }` so we also need the `!important` here to be able to override the default hidden behavior on the sphinx rendered scikit-learn.org. See: https://github.com/scikit-learn/scikit-learn/issues/21755 */display: inline-block !important;position: relative;}#sk-container-id-2 div.sk-text-repr-fallback {display: none;}</style><div id=\"sk-container-id-2\" class=\"sk-top-container\"><div class=\"sk-text-repr-fallback\"><pre>Ridge(alpha=0.1)</pre><b>In a Jupyter environment, please rerun this cell to show the HTML representation or trust the notebook. <br />On GitHub, the HTML representation is unable to render, please try loading this page with nbviewer.org.</b></div><div class=\"sk-container\" hidden><div class=\"sk-item\"><div class=\"sk-estimator sk-toggleable\"><input class=\"sk-toggleable__control sk-hidden--visually\" id=\"sk-estimator-id-2\" type=\"checkbox\" checked><label for=\"sk-estimator-id-2\" class=\"sk-toggleable__label sk-toggleable__label-arrow\">Ridge</label><div class=\"sk-toggleable__content\"><pre>Ridge(alpha=0.1)</pre></div></div></div></div></div>"
      ],
      "text/plain": [
       "Ridge(alpha=0.1)"
      ]
     },
     "execution_count": 6,
     "metadata": {},
     "output_type": "execute_result"
    }
   ],
   "source": [
    "# First, create the basis functions using SplineTransformer\n",
    "n_knots = 25 # number of \"breaking points\"\n",
    "degree = 3 # order of the basis polynomials\n",
    "\n",
    "splt = SplineTransformer(n_knots=n_knots, degree=degree).fit(X_train)\n",
    "X_train_splt = splt.transform(X_train)\n",
    "\n",
    "# fit the B-spline using ridge regression\n",
    "ridge_splt = Ridge(alpha=0.1)\n",
    "ridge_splt.fit(X_train_splt, y_train)\n",
    "\n",
    "# show coefs\n",
    "# plt.figure(figsize=(15, 3))\n",
    "# plt.bar(range(n_knots+2), ridge_splt.coef_)\n",
    "# plt.title(f'Intercept: {ridge_splt.intercept_}')\n",
    "# plt.xlabel('Base id')\n",
    "# plt.ylabel('Coef.')\n",
    "# plt.grid()\n",
    "# plt.show()"
   ]
  },
  {
   "cell_type": "code",
   "execution_count": 7,
   "metadata": {},
   "outputs": [
    {
     "name": "stdout",
     "output_type": "stream",
     "text": [
      "MSE(TR, spline) = 0.005087265579134734\n",
      "MSE(TS, spline) = 0.005306321790805033\n",
      "MAE(TR, spline) = 0.04771968010542406\n",
      "MAE(TS, spline) = 0.049284292080676924\n"
     ]
    }
   ],
   "source": [
    "# estimations using the spline\n",
    "y_train_spline = ridge_splt.predict(X_train_splt)\n",
    "\n",
    "X_test_splt = splt.transform(X_test)\n",
    "y_test_spline = ridge_splt.predict(X_test_splt)\n",
    "\n",
    "# errors\n",
    "mse_tr_spline = mean_squared_error(y_train_spline, y_train)\n",
    "mse_ts_spline = mean_squared_error(y_test_spline, y_test)\n",
    "\n",
    "mae_tr_spline = mean_absolute_error(y_train_spline, y_train)\n",
    "mae_ts_spline = mean_absolute_error(y_test_spline, y_test)\n",
    "\n",
    "print(f'MSE(TR, spline) = {mse_tr_spline}')\n",
    "print(f'MSE(TS, spline) = {mse_ts_spline}')\n",
    "print(f'MAE(TR, spline) = {mae_tr_spline}')\n",
    "print(f'MAE(TS, spline) = {mae_ts_spline}')"
   ]
  },
  {
   "cell_type": "markdown",
   "metadata": {},
   "source": [
    "### Stacking"
   ]
  },
  {
   "cell_type": "code",
   "execution_count": 8,
   "metadata": {},
   "outputs": [
    {
     "data": {
      "text/plain": [
       "[('poly',\n",
       "  Pipeline(steps=[('polynomialfeatures', PolynomialFeatures(degree=15)),\n",
       "                  ('ridge', Ridge(alpha=0.001))])),\n",
       " ('spline',\n",
       "  Pipeline(steps=[('splinetransformer', SplineTransformer(n_knots=25)),\n",
       "                  ('ridge', Ridge(alpha=0.001))])),\n",
       " ('regtree',\n",
       "  Pipeline(steps=[('gridsearchcv',\n",
       "                   GridSearchCV(cv=10,\n",
       "                                estimator=Pipeline(steps=[('DT',\n",
       "                                                           DecisionTreeRegressor(random_state=150))]),\n",
       "                                n_jobs=-1,\n",
       "                                param_grid={'DT__min_impurity_decrease': array([0.]),\n",
       "                                            'DT__min_samples_leaf': array([1, 2, 3, 4, 5, 6, 7, 8, 9]),\n",
       "                                            'DT__min_samples_split': array([1, 2, 3, 4, 5, 6, 7, 8, 9])}))]))]"
      ]
     },
     "execution_count": 8,
     "metadata": {},
     "output_type": "execute_result"
    }
   ],
   "source": [
    "degree_poly = 15\n",
    "\n",
    "n_knots_spline = 25 # number of \"breaking points\"\n",
    "degree_basis_spline = 3 # order of the basis polynomials\n",
    "\n",
    "# grid in min_impurity x min_samples_leaf x min_samples_split\n",
    "param_tree = {'DT__min_impurity_decrease': np.arange(0, 0.001 * np.var(y_train),0.001), # Minimum impurity to decrease in each split\n",
    "         'DT__min_samples_leaf': np.arange(1,10,1), # Minimum number of obs in a terminal node\n",
    "         'DT__min_samples_split':  np.arange(1,10,1)} # Minimum number of obs in node to keep cutting\n",
    "\n",
    "pipe_tree = Pipeline(steps=[('DT', DecisionTreeRegressor(criterion='squared_error',  # impurity measure: variance reduction\n",
    "                                                         random_state=150))]) # For replication\n",
    "\n",
    "nFolds_tree = 10\n",
    "\n",
    "## set of estimators to be stacked\n",
    "estimators = [\n",
    "    ('poly', make_pipeline(\n",
    "        PolynomialFeatures(degree_poly), \n",
    "        Ridge(alpha=1e-3))\n",
    "    ),\n",
    "    ('spline', make_pipeline(\n",
    "        SplineTransformer(n_knots=n_knots, degree=degree),\n",
    "        Ridge(alpha=1e-3))\n",
    "    ),\n",
    "    ('regtree', make_pipeline(\n",
    "                GridSearchCV(estimator= pipe_tree,\n",
    "                            param_grid=param_tree, # Defined grid to search in\n",
    "                            n_jobs=-1, # Number of cores to use (parallelize)\n",
    "                            cv=nFolds_tree)) # Number of Folds\n",
    "    )\n",
    "]\n",
    "\n",
    "estimators"
   ]
  },
  {
   "cell_type": "code",
   "execution_count": 9,
   "metadata": {},
   "outputs": [
    {
     "name": "stderr",
     "output_type": "stream",
     "text": [
      "c:\\Users\\mdavila\\anaconda3\\envs\\ML\\Lib\\site-packages\\sklearn\\linear_model\\_ridge.py:250: UserWarning: Singular matrix in solving dual problem. Using least-squares solution instead.\n",
      "  warnings.warn(\n",
      "c:\\Users\\mdavila\\anaconda3\\envs\\ML\\Lib\\site-packages\\sklearn\\model_selection\\_validation.py:425: FitFailedWarning: \n",
      "90 fits failed out of a total of 810.\n",
      "The score on these train-test partitions for these parameters will be set to nan.\n",
      "If these failures are not expected, you can try to debug them by setting error_score='raise'.\n",
      "\n",
      "Below are more details about the failures:\n",
      "--------------------------------------------------------------------------------\n",
      "90 fits failed with the following error:\n",
      "Traceback (most recent call last):\n",
      "  File \"c:\\Users\\mdavila\\anaconda3\\envs\\ML\\Lib\\site-packages\\sklearn\\model_selection\\_validation.py\", line 732, in _fit_and_score\n",
      "    estimator.fit(X_train, y_train, **fit_params)\n",
      "  File \"c:\\Users\\mdavila\\anaconda3\\envs\\ML\\Lib\\site-packages\\sklearn\\base.py\", line 1151, in wrapper\n",
      "    return fit_method(estimator, *args, **kwargs)\n",
      "           ^^^^^^^^^^^^^^^^^^^^^^^^^^^^^^^^^^^^^^\n",
      "  File \"c:\\Users\\mdavila\\anaconda3\\envs\\ML\\Lib\\site-packages\\sklearn\\pipeline.py\", line 420, in fit\n",
      "    self._final_estimator.fit(Xt, y, **fit_params_last_step)\n",
      "  File \"c:\\Users\\mdavila\\anaconda3\\envs\\ML\\Lib\\site-packages\\sklearn\\base.py\", line 1144, in wrapper\n",
      "    estimator._validate_params()\n",
      "  File \"c:\\Users\\mdavila\\anaconda3\\envs\\ML\\Lib\\site-packages\\sklearn\\base.py\", line 637, in _validate_params\n",
      "    validate_parameter_constraints(\n",
      "  File \"c:\\Users\\mdavila\\anaconda3\\envs\\ML\\Lib\\site-packages\\sklearn\\utils\\_param_validation.py\", line 95, in validate_parameter_constraints\n",
      "    raise InvalidParameterError(\n",
      "sklearn.utils._param_validation.InvalidParameterError: The 'min_samples_split' parameter of DecisionTreeRegressor must be an int in the range [2, inf) or a float in the range (0.0, 1.0]. Got 1 instead.\n",
      "\n",
      "  warnings.warn(some_fits_failed_message, FitFailedWarning)\n",
      "c:\\Users\\mdavila\\anaconda3\\envs\\ML\\Lib\\site-packages\\sklearn\\model_selection\\_search.py:976: UserWarning: One or more of the test scores are non-finite: [       nan 0.87764438 0.87789558 0.88239258 0.8872415  0.89123066\n",
      " 0.89426958 0.89722506 0.89915586        nan 0.88943405 0.88943405\n",
      " 0.88943405 0.89402842 0.89669749 0.89998158 0.90225118 0.90354723\n",
      "        nan 0.90161865 0.90161865 0.90161865 0.90161865 0.90161865\n",
      " 0.90408401 0.90613054 0.90731916        nan 0.90821618 0.90821618\n",
      " 0.90821618 0.90821618 0.90821618 0.90821618 0.90821618 0.90974605\n",
      "        nan 0.91256424 0.91256424 0.91256424 0.91256424 0.91256424\n",
      " 0.91256424 0.91256424 0.91256424        nan 0.91614348 0.91614348\n",
      " 0.91614348 0.91614348 0.91614348 0.91614348 0.91614348 0.91614348\n",
      "        nan 0.91858744 0.91858744 0.91858744 0.91858744 0.91858744\n",
      " 0.91858744 0.91858744 0.91858744        nan 0.92037009 0.92037009\n",
      " 0.92037009 0.92037009 0.92037009 0.92037009 0.92037009 0.92037009\n",
      "        nan 0.92206927 0.92206927 0.92206927 0.92206927 0.92206927\n",
      " 0.92206927 0.92206927 0.92206927]\n",
      "  warnings.warn(\n"
     ]
    },
    {
     "data": {
      "text/plain": [
       "{'estimators': [('poly',\n",
       "   Pipeline(steps=[('polynomialfeatures', PolynomialFeatures(degree=15)),\n",
       "                   ('ridge', Ridge(alpha=0.001))])),\n",
       "  ('spline',\n",
       "   Pipeline(steps=[('splinetransformer', SplineTransformer(n_knots=25)),\n",
       "                   ('ridge', Ridge(alpha=0.001))])),\n",
       "  ('regtree',\n",
       "   Pipeline(steps=[('gridsearchcv',\n",
       "                    GridSearchCV(cv=10,\n",
       "                                 estimator=Pipeline(steps=[('DT',\n",
       "                                                            DecisionTreeRegressor(random_state=150))]),\n",
       "                                 n_jobs=-1,\n",
       "                                 param_grid={'DT__min_impurity_decrease': array([0.]),\n",
       "                                             'DT__min_samples_leaf': array([1, 2, 3, 4, 5, 6, 7, 8, 9]),\n",
       "                                             'DT__min_samples_split': array([1, 2, 3, 4, 5, 6, 7, 8, 9])}))]))],\n",
       " 'n_jobs': None,\n",
       " 'verbose': False,\n",
       " 'weights': [0.1, 0.2, 0.7],\n",
       " 'poly': Pipeline(steps=[('polynomialfeatures', PolynomialFeatures(degree=15)),\n",
       "                 ('ridge', Ridge(alpha=0.001))]),\n",
       " 'spline': Pipeline(steps=[('splinetransformer', SplineTransformer(n_knots=25)),\n",
       "                 ('ridge', Ridge(alpha=0.001))]),\n",
       " 'regtree': Pipeline(steps=[('gridsearchcv',\n",
       "                  GridSearchCV(cv=10,\n",
       "                               estimator=Pipeline(steps=[('DT',\n",
       "                                                          DecisionTreeRegressor(random_state=150))]),\n",
       "                               n_jobs=-1,\n",
       "                               param_grid={'DT__min_impurity_decrease': array([0.]),\n",
       "                                           'DT__min_samples_leaf': array([1, 2, 3, 4, 5, 6, 7, 8, 9]),\n",
       "                                           'DT__min_samples_split': array([1, 2, 3, 4, 5, 6, 7, 8, 9])}))]),\n",
       " 'poly__memory': None,\n",
       " 'poly__steps': [('polynomialfeatures', PolynomialFeatures(degree=15)),\n",
       "  ('ridge', Ridge(alpha=0.001))],\n",
       " 'poly__verbose': False,\n",
       " 'poly__polynomialfeatures': PolynomialFeatures(degree=15),\n",
       " 'poly__ridge': Ridge(alpha=0.001),\n",
       " 'poly__polynomialfeatures__degree': 15,\n",
       " 'poly__polynomialfeatures__include_bias': True,\n",
       " 'poly__polynomialfeatures__interaction_only': False,\n",
       " 'poly__polynomialfeatures__order': 'C',\n",
       " 'poly__ridge__alpha': 0.001,\n",
       " 'poly__ridge__copy_X': True,\n",
       " 'poly__ridge__fit_intercept': True,\n",
       " 'poly__ridge__max_iter': None,\n",
       " 'poly__ridge__positive': False,\n",
       " 'poly__ridge__random_state': None,\n",
       " 'poly__ridge__solver': 'auto',\n",
       " 'poly__ridge__tol': 0.0001,\n",
       " 'spline__memory': None,\n",
       " 'spline__steps': [('splinetransformer', SplineTransformer(n_knots=25)),\n",
       "  ('ridge', Ridge(alpha=0.001))],\n",
       " 'spline__verbose': False,\n",
       " 'spline__splinetransformer': SplineTransformer(n_knots=25),\n",
       " 'spline__ridge': Ridge(alpha=0.001),\n",
       " 'spline__splinetransformer__degree': 3,\n",
       " 'spline__splinetransformer__extrapolation': 'constant',\n",
       " 'spline__splinetransformer__include_bias': True,\n",
       " 'spline__splinetransformer__knots': 'uniform',\n",
       " 'spline__splinetransformer__n_knots': 25,\n",
       " 'spline__splinetransformer__order': 'C',\n",
       " 'spline__splinetransformer__sparse_output': False,\n",
       " 'spline__ridge__alpha': 0.001,\n",
       " 'spline__ridge__copy_X': True,\n",
       " 'spline__ridge__fit_intercept': True,\n",
       " 'spline__ridge__max_iter': None,\n",
       " 'spline__ridge__positive': False,\n",
       " 'spline__ridge__random_state': None,\n",
       " 'spline__ridge__solver': 'auto',\n",
       " 'spline__ridge__tol': 0.0001,\n",
       " 'regtree__memory': None,\n",
       " 'regtree__steps': [('gridsearchcv',\n",
       "   GridSearchCV(cv=10,\n",
       "                estimator=Pipeline(steps=[('DT',\n",
       "                                           DecisionTreeRegressor(random_state=150))]),\n",
       "                n_jobs=-1,\n",
       "                param_grid={'DT__min_impurity_decrease': array([0.]),\n",
       "                            'DT__min_samples_leaf': array([1, 2, 3, 4, 5, 6, 7, 8, 9]),\n",
       "                            'DT__min_samples_split': array([1, 2, 3, 4, 5, 6, 7, 8, 9])}))],\n",
       " 'regtree__verbose': False,\n",
       " 'regtree__gridsearchcv': GridSearchCV(cv=10,\n",
       "              estimator=Pipeline(steps=[('DT',\n",
       "                                         DecisionTreeRegressor(random_state=150))]),\n",
       "              n_jobs=-1,\n",
       "              param_grid={'DT__min_impurity_decrease': array([0.]),\n",
       "                          'DT__min_samples_leaf': array([1, 2, 3, 4, 5, 6, 7, 8, 9]),\n",
       "                          'DT__min_samples_split': array([1, 2, 3, 4, 5, 6, 7, 8, 9])}),\n",
       " 'regtree__gridsearchcv__cv': 10,\n",
       " 'regtree__gridsearchcv__error_score': nan,\n",
       " 'regtree__gridsearchcv__estimator__memory': None,\n",
       " 'regtree__gridsearchcv__estimator__steps': [('DT',\n",
       "   DecisionTreeRegressor(random_state=150))],\n",
       " 'regtree__gridsearchcv__estimator__verbose': False,\n",
       " 'regtree__gridsearchcv__estimator__DT': DecisionTreeRegressor(random_state=150),\n",
       " 'regtree__gridsearchcv__estimator__DT__ccp_alpha': 0.0,\n",
       " 'regtree__gridsearchcv__estimator__DT__criterion': 'squared_error',\n",
       " 'regtree__gridsearchcv__estimator__DT__max_depth': None,\n",
       " 'regtree__gridsearchcv__estimator__DT__max_features': None,\n",
       " 'regtree__gridsearchcv__estimator__DT__max_leaf_nodes': None,\n",
       " 'regtree__gridsearchcv__estimator__DT__min_impurity_decrease': 0.0,\n",
       " 'regtree__gridsearchcv__estimator__DT__min_samples_leaf': 1,\n",
       " 'regtree__gridsearchcv__estimator__DT__min_samples_split': 2,\n",
       " 'regtree__gridsearchcv__estimator__DT__min_weight_fraction_leaf': 0.0,\n",
       " 'regtree__gridsearchcv__estimator__DT__random_state': 150,\n",
       " 'regtree__gridsearchcv__estimator__DT__splitter': 'best',\n",
       " 'regtree__gridsearchcv__estimator': Pipeline(steps=[('DT', DecisionTreeRegressor(random_state=150))]),\n",
       " 'regtree__gridsearchcv__n_jobs': -1,\n",
       " 'regtree__gridsearchcv__param_grid': {'DT__min_impurity_decrease': array([0.]),\n",
       "  'DT__min_samples_leaf': array([1, 2, 3, 4, 5, 6, 7, 8, 9]),\n",
       "  'DT__min_samples_split': array([1, 2, 3, 4, 5, 6, 7, 8, 9])},\n",
       " 'regtree__gridsearchcv__pre_dispatch': '2*n_jobs',\n",
       " 'regtree__gridsearchcv__refit': True,\n",
       " 'regtree__gridsearchcv__return_train_score': False,\n",
       " 'regtree__gridsearchcv__scoring': None,\n",
       " 'regtree__gridsearchcv__verbose': 0}"
      ]
     },
     "execution_count": 9,
     "metadata": {},
     "output_type": "execute_result"
    }
   ],
   "source": [
    "weights = [0.1, 0.2, 0.7]\n",
    "stacked_reg = VotingRegressor(estimators = estimators, weights = weights)\n",
    "stacked_reg = stacked_reg.fit(X_train, y_train)\n",
    "stacked_reg.get_params()"
   ]
  },
  {
   "cell_type": "code",
   "execution_count": 10,
   "metadata": {},
   "outputs": [
    {
     "name": "stdout",
     "output_type": "stream",
     "text": [
      "MSE(TR, stack) = 0.0032177129378747984\n",
      "MSE(TS, stack) = 0.004713365320588808\n",
      "MAE(TR, stack) = 0.03607491137779835\n",
      "MAE(TS, stack) = 0.04236636090248357\n"
     ]
    }
   ],
   "source": [
    "# estimations using the stacked models\n",
    "y_train_stack = stacked_reg.predict(X_train)\n",
    "y_test_stack = stacked_reg.predict(X_test)\n",
    "\n",
    "# errors\n",
    "mse_tr_stack = mean_squared_error(y_train_stack, y_train)\n",
    "mse_ts_stack = mean_squared_error(y_test_stack, y_test)\n",
    "\n",
    "mae_tr_stack = mean_absolute_error(y_train_stack, y_train)\n",
    "mae_ts_stack = mean_absolute_error(y_test_stack, y_test)\n",
    "\n",
    "print(f'MSE(TR, stack) = {mse_tr_stack}')\n",
    "print(f'MSE(TS, stack) = {mse_ts_stack}')\n",
    "print(f'MAE(TR, stack) = {mae_tr_stack}')\n",
    "print(f'MAE(TS, stack) = {mae_ts_stack}')"
   ]
  }
 ],
 "metadata": {
  "kernelspec": {
   "display_name": "ML",
   "language": "python",
   "name": "python3"
  },
  "language_info": {
   "codemirror_mode": {
    "name": "ipython",
    "version": 3
   },
   "file_extension": ".py",
   "mimetype": "text/x-python",
   "name": "python",
   "nbconvert_exporter": "python",
   "pygments_lexer": "ipython3",
   "version": "3.11.5"
  }
 },
 "nbformat": 4,
 "nbformat_minor": 2
}
